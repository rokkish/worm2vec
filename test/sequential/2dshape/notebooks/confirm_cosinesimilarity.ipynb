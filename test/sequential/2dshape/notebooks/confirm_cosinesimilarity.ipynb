{
 "metadata": {
  "language_info": {
   "codemirror_mode": {
    "name": "ipython",
    "version": 3
   },
   "file_extension": ".py",
   "mimetype": "text/x-python",
   "name": "python",
   "nbconvert_exporter": "python",
   "pygments_lexer": "ipython3",
   "version": "3.6.8-final"
  },
  "orig_nbformat": 2,
  "kernelspec": {
   "name": "python3",
   "display_name": "Python 3.6.8 64-bit",
   "metadata": {
    "interpreter": {
     "hash": "31f2aee4e71d21fbe5cf8b01ff0e069b9275f58929596ceb00d14d90e3e16cd6"
    }
   }
  }
 },
 "nbformat": 4,
 "nbformat_minor": 2,
 "cells": [
  {
   "cell_type": "code",
   "execution_count": 1,
   "metadata": {},
   "outputs": [],
   "source": [
    "import sys\n",
    "sys.path.append(\"..\")\n",
    "import numpy as np\n",
    "import pandas as pd"
   ]
  },
  {
   "cell_type": "code",
   "execution_count": 11,
   "metadata": {},
   "outputs": [],
   "source": [
    "# load csv\n",
    "df = pd.read_csv(\"../outputs/2021-01-13/20-54-33/tensor.csv\", header=None, delimiter=\"\\t\")\n",
    "df_label = pd.read_csv(\"../outputs/2021-01-13/20-54-33/metadata.tsv\", delimiter=\"\\t\", index_col=0)"
   ]
  },
  {
   "cell_type": "code",
   "execution_count": 12,
   "metadata": {},
   "outputs": [],
   "source": [
    "data = pd.concat([df_label, df], axis=1)\n",
    "del df, df_label"
   ]
  },
  {
   "cell_type": "code",
   "execution_count": 14,
   "metadata": {},
   "outputs": [],
   "source": [
    "import scipy.spatial.distance"
   ]
  },
  {
   "cell_type": "code",
   "execution_count": 15,
   "metadata": {},
   "outputs": [],
   "source": [
    "def cossim(x, y):\n",
    "    return scipy.spatial.distance.cosine(x, y)"
   ]
  },
  {
   "cell_type": "code",
   "execution_count": 23,
   "metadata": {},
   "outputs": [],
   "source": [
    "context_x = np.array(data.loc[data[\"ContextOrTargetOrShapeTarget\"]==0].iloc[:, 2:])\n",
    "target_x = np.array(data.loc[data[\"ContextOrTargetOrShapeTarget\"]==1].iloc[:, 2:])\n",
    "starget_x = np.array(data.loc[data[\"ContextOrTargetOrShapeTarget\"]==2].iloc[:, 2:])"
   ]
  },
  {
   "cell_type": "code",
   "execution_count": 33,
   "metadata": {},
   "outputs": [],
   "source": [
    "def mean_cossim(X=context_x, Y=target_x):\n",
    "    tmp = 0.\n",
    "    for i in range(context_x.shape[0]):\n",
    "        x = X[i, :]\n",
    "        y = Y[i, :]\n",
    "        tmp += cossim(x, y)\n",
    "    return tmp/context_x.shape[0]"
   ]
  },
  {
   "cell_type": "code",
   "execution_count": 41,
   "metadata": {},
   "outputs": [
    {
     "output_type": "stream",
     "name": "stdout",
     "text": [
      "context VS target \t\t 0.482\ncontext VS shape target \t 0.001\nshape target VS target \t\t 0.488\n"
     ]
    }
   ],
   "source": [
    "print(\"context VS target \\t\\t {:.3f}\".format(mean_cossim()))\n",
    "print(\"context VS shape target \\t {:.3f}\".format(mean_cossim(context_x, starget_x)))\n",
    "print(\"shape target VS target \\t\\t {:.3f}\".format(mean_cossim(starget_x, target_x)))"
   ]
  },
  {
   "cell_type": "code",
   "execution_count": null,
   "metadata": {},
   "outputs": [],
   "source": []
  }
 ]
}