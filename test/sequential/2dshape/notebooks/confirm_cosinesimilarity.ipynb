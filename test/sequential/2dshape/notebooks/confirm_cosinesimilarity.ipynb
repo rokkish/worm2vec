{
 "metadata": {
  "language_info": {
   "codemirror_mode": {
    "name": "ipython",
    "version": 3
   },
   "file_extension": ".py",
   "mimetype": "text/x-python",
   "name": "python",
   "nbconvert_exporter": "python",
   "pygments_lexer": "ipython3",
   "version": "3.6.8-final"
  },
  "orig_nbformat": 2,
  "kernelspec": {
   "name": "python3",
   "display_name": "Python 3.6.8 64-bit",
   "metadata": {
    "interpreter": {
     "hash": "31f2aee4e71d21fbe5cf8b01ff0e069b9275f58929596ceb00d14d90e3e16cd6"
    }
   }
  }
 },
 "nbformat": 4,
 "nbformat_minor": 2,
 "cells": [
  {
   "cell_type": "code",
   "execution_count": 91,
   "metadata": {},
   "outputs": [],
   "source": [
    "import sys\n",
    "sys.path.append(\"..\")\n",
    "import numpy as np\n",
    "import pandas as pd"
   ]
  },
  {
   "source": [
    "## input variable"
   ],
   "cell_type": "markdown",
   "metadata": {}
  },
  {
   "cell_type": "code",
   "execution_count": 99,
   "metadata": {},
   "outputs": [
    {
     "output_type": "execute_result",
     "data": {
      "text/plain": [
       "'2021-01-14/22-12-22/projector/in_test/199'"
      ]
     },
     "metadata": {},
     "execution_count": 99
    }
   ],
   "source": [
    "View_Column_name = \"PrevContext_NextContext_PrevTarget_NextTarget_ShapeTarget\"\n",
    "DATE = input()\n",
    "DATE"
   ]
  },
  {
   "source": [
    "## load data"
   ],
   "cell_type": "markdown",
   "metadata": {}
  },
  {
   "cell_type": "code",
   "execution_count": 100,
   "metadata": {},
   "outputs": [],
   "source": [
    "# load csv\n",
    "df = pd.read_csv(\"../outputs/{}/tensor.csv\".format(DATE), header=None, delimiter=\"\\t\")\n",
    "df_label = pd.read_csv(\"../outputs/{}/metadata.tsv\".format(DATE), delimiter=\"\\t\", index_col=0)"
   ]
  },
  {
   "cell_type": "code",
   "execution_count": 101,
   "metadata": {},
   "outputs": [],
   "source": [
    "data = pd.concat([df_label, df], axis=1)\n",
    "del df, df_label"
   ]
  },
  {
   "source": [
    "## def loss"
   ],
   "cell_type": "markdown",
   "metadata": {}
  },
  {
   "cell_type": "code",
   "execution_count": 102,
   "metadata": {},
   "outputs": [],
   "source": [
    "import scipy.spatial.distance\n",
    "def cossim(x, y):\n",
    "    return scipy.spatial.distance.cosine(x, y)\n",
    "\n",
    "def mean_cossim(X=context_x, Y=target_x):\n",
    "    tmp = 0.\n",
    "    for i in range(context_x.shape[0]):\n",
    "        x = X[i, :]\n",
    "        y = Y[i, :]\n",
    "        tmp += cossim(x, y)\n",
    "    return 1-tmp/context_x.shape[0]"
   ]
  },
  {
   "source": [
    "## select vector"
   ],
   "cell_type": "markdown",
   "metadata": {}
  },
  {
   "cell_type": "code",
   "execution_count": 103,
   "metadata": {},
   "outputs": [],
   "source": [
    "vector_dict = {\n",
    "    \"prev_context\": None,\n",
    "    \"next_context\": None,\n",
    "    \"prev_target\": None,\n",
    "    \"next_target\": None,\n",
    "    \"now_target\": None,\n",
    "}\n",
    "for i, name in enumerate(vector_dict.keys()):\n",
    "     vector_dict[name] = np.array(data.loc[data[View_Column_name]==i].iloc[:, 2:])"
   ]
  },
  {
   "source": [
    "## Calculate"
   ],
   "cell_type": "markdown",
   "metadata": {}
  },
  {
   "cell_type": "code",
   "execution_count": 104,
   "metadata": {},
   "outputs": [
    {
     "output_type": "stream",
     "name": "stdout",
     "text": [
      "prev_context VS next_context \t\t 0.9705396609\nprev_context VS prev_target \t\t 0.9995694546\nprev_context VS next_target \t\t 0.9722395823\nprev_context VS now_target \t\t 0.9919900052\nnext_context VS prev_target \t\t 0.9706825441\nnext_context VS next_target \t\t 0.9993673065\nnext_context VS now_target \t\t 0.9870348768\nprev_target VS next_target \t\t 0.9723826613\nprev_target VS now_target \t\t 0.9920406493\nnext_target VS now_target \t\t 0.9878624182\n"
     ]
    }
   ],
   "source": [
    "tmp = []\n",
    "for i, (k, v) in enumerate(vector_dict.items()):\n",
    "    for j, (k_, v_) in enumerate(vector_dict.items()):\n",
    "        if i<j and k != k_:\n",
    "            cossim_value = mean_cossim(v, v_)\n",
    "            print(\"{} VS {} \\t\\t {:.10f}\".format(k, k_, cossim_value))\n",
    "            tmp.append([k, k_, cossim_value, 1-cossim_value])"
   ]
  },
  {
   "cell_type": "code",
   "execution_count": 105,
   "metadata": {},
   "outputs": [
    {
     "output_type": "execute_result",
     "data": {
      "text/plain": [
       "       vector A      vector B    cossim  cossim_loss\n",
       "1  prev_context   prev_target  0.999569     0.000431\n",
       "5  next_context   next_target  0.999367     0.000633\n",
       "8   prev_target    now_target  0.992041     0.007959\n",
       "3  prev_context    now_target  0.991990     0.008010\n",
       "9   next_target    now_target  0.987862     0.012138\n",
       "6  next_context    now_target  0.987035     0.012965\n",
       "7   prev_target   next_target  0.972383     0.027617\n",
       "2  prev_context   next_target  0.972240     0.027760\n",
       "4  next_context   prev_target  0.970683     0.029317\n",
       "0  prev_context  next_context  0.970540     0.029460"
      ],
      "text/html": "<div>\n<style scoped>\n    .dataframe tbody tr th:only-of-type {\n        vertical-align: middle;\n    }\n\n    .dataframe tbody tr th {\n        vertical-align: top;\n    }\n\n    .dataframe thead th {\n        text-align: right;\n    }\n</style>\n<table border=\"1\" class=\"dataframe\">\n  <thead>\n    <tr style=\"text-align: right;\">\n      <th></th>\n      <th>vector A</th>\n      <th>vector B</th>\n      <th>cossim</th>\n      <th>cossim_loss</th>\n    </tr>\n  </thead>\n  <tbody>\n    <tr>\n      <th>1</th>\n      <td>prev_context</td>\n      <td>prev_target</td>\n      <td>0.999569</td>\n      <td>0.000431</td>\n    </tr>\n    <tr>\n      <th>5</th>\n      <td>next_context</td>\n      <td>next_target</td>\n      <td>0.999367</td>\n      <td>0.000633</td>\n    </tr>\n    <tr>\n      <th>8</th>\n      <td>prev_target</td>\n      <td>now_target</td>\n      <td>0.992041</td>\n      <td>0.007959</td>\n    </tr>\n    <tr>\n      <th>3</th>\n      <td>prev_context</td>\n      <td>now_target</td>\n      <td>0.991990</td>\n      <td>0.008010</td>\n    </tr>\n    <tr>\n      <th>9</th>\n      <td>next_target</td>\n      <td>now_target</td>\n      <td>0.987862</td>\n      <td>0.012138</td>\n    </tr>\n    <tr>\n      <th>6</th>\n      <td>next_context</td>\n      <td>now_target</td>\n      <td>0.987035</td>\n      <td>0.012965</td>\n    </tr>\n    <tr>\n      <th>7</th>\n      <td>prev_target</td>\n      <td>next_target</td>\n      <td>0.972383</td>\n      <td>0.027617</td>\n    </tr>\n    <tr>\n      <th>2</th>\n      <td>prev_context</td>\n      <td>next_target</td>\n      <td>0.972240</td>\n      <td>0.027760</td>\n    </tr>\n    <tr>\n      <th>4</th>\n      <td>next_context</td>\n      <td>prev_target</td>\n      <td>0.970683</td>\n      <td>0.029317</td>\n    </tr>\n    <tr>\n      <th>0</th>\n      <td>prev_context</td>\n      <td>next_context</td>\n      <td>0.970540</td>\n      <td>0.029460</td>\n    </tr>\n  </tbody>\n</table>\n</div>"
     },
     "metadata": {},
     "execution_count": 105
    }
   ],
   "source": [
    "# 20k samples\n",
    "df = pd.DataFrame(tmp, columns=[\"vector A\", \"vector B\", \"cossim\", \"cossim_loss\"])\n",
    "df.sort_values(\"cossim\", ascending=False)"
   ]
  },
  {
   "cell_type": "code",
   "execution_count": null,
   "metadata": {},
   "outputs": [],
   "source": []
  }
 ]
}