{
 "metadata": {
  "language_info": {
   "codemirror_mode": {
    "name": "ipython",
    "version": 3
   },
   "file_extension": ".py",
   "mimetype": "text/x-python",
   "name": "python",
   "nbconvert_exporter": "python",
   "pygments_lexer": "ipython3",
   "version": "3.6.8-final"
  },
  "orig_nbformat": 2,
  "kernelspec": {
   "name": "python3",
   "display_name": "Python 3.6.8 64-bit",
   "metadata": {
    "interpreter": {
     "hash": "31f2aee4e71d21fbe5cf8b01ff0e069b9275f58929596ceb00d14d90e3e16cd6"
    }
   }
  }
 },
 "nbformat": 4,
 "nbformat_minor": 2,
 "cells": [
  {
   "cell_type": "code",
   "execution_count": 1,
   "metadata": {},
   "outputs": [],
   "source": [
    "import sys\n",
    "sys.path.append(\"..\")\n",
    "import numpy as np\n",
    "import pandas as pd"
   ]
  },
  {
   "source": [
    "## input variable"
   ],
   "cell_type": "markdown",
   "metadata": {}
  },
  {
   "cell_type": "code",
   "execution_count": 2,
   "metadata": {},
   "outputs": [
    {
     "output_type": "execute_result",
     "data": {
      "text/plain": [
       "'2021-01-14/22-31-43/projector/in_test/199'"
      ]
     },
     "metadata": {},
     "execution_count": 2
    }
   ],
   "source": [
    "View_Column_name = \"PrevContext_NextContext_PrevTarget_NextTarget_ShapeTarget\"\n",
    "DATE = input()\n",
    "DATE"
   ]
  },
  {
   "source": [
    "## load data"
   ],
   "cell_type": "markdown",
   "metadata": {}
  },
  {
   "cell_type": "code",
   "execution_count": 3,
   "metadata": {},
   "outputs": [],
   "source": [
    "# load csv\n",
    "df = pd.read_csv(\"../outputs/{}/tensor.csv\".format(DATE), header=None, delimiter=\"\\t\")\n",
    "df_label = pd.read_csv(\"../outputs/{}/metadata.tsv\".format(DATE), delimiter=\"\\t\", index_col=0)"
   ]
  },
  {
   "cell_type": "code",
   "execution_count": 4,
   "metadata": {},
   "outputs": [],
   "source": [
    "data = pd.concat([df_label, df], axis=1)\n",
    "del df, df_label"
   ]
  },
  {
   "source": [
    "## def loss"
   ],
   "cell_type": "markdown",
   "metadata": {}
  },
  {
   "cell_type": "code",
   "execution_count": 7,
   "metadata": {},
   "outputs": [],
   "source": [
    "import scipy.spatial.distance\n",
    "def cossim(x, y):\n",
    "    return scipy.spatial.distance.cosine(x, y)\n",
    "\n",
    "def mean_cossim(X, Y):\n",
    "    tmp = 0.\n",
    "    for i in range(X.shape[0]):\n",
    "        x = X[i, :]\n",
    "        y = Y[i, :]\n",
    "        tmp += cossim(x, y)\n",
    "    return 1-tmp/X.shape[0]"
   ]
  },
  {
   "source": [
    "## select vector"
   ],
   "cell_type": "markdown",
   "metadata": {}
  },
  {
   "cell_type": "code",
   "execution_count": 8,
   "metadata": {},
   "outputs": [],
   "source": [
    "vector_dict = {\n",
    "    \"prev_context\": None,\n",
    "    \"next_context\": None,\n",
    "    \"prev_target\": None,\n",
    "    \"next_target\": None,\n",
    "    \"now_target\": None,\n",
    "}\n",
    "for i, name in enumerate(vector_dict.keys()):\n",
    "     vector_dict[name] = np.array(data.loc[data[View_Column_name]==i].iloc[:, 2:])"
   ]
  },
  {
   "source": [
    "## Calculate"
   ],
   "cell_type": "markdown",
   "metadata": {}
  },
  {
   "cell_type": "code",
   "execution_count": 9,
   "metadata": {},
   "outputs": [
    {
     "output_type": "stream",
     "name": "stdout",
     "text": [
      "prev_context VS next_context \t\t 0.9565499024\nprev_context VS prev_target \t\t 0.9994714011\nprev_context VS next_target \t\t 0.9626253615\nprev_context VS now_target \t\t 0.9825647002\nnext_context VS prev_target \t\t 0.9592547946\nnext_context VS next_target \t\t 0.9991202646\nnext_context VS now_target \t\t 0.9769976896\nprev_target VS next_target \t\t 0.9649074388\nprev_target VS now_target \t\t 0.9835774295\nnext_target VS now_target \t\t 0.9803349126\n"
     ]
    }
   ],
   "source": [
    "tmp = []\n",
    "for i, (k, v) in enumerate(vector_dict.items()):\n",
    "    for j, (k_, v_) in enumerate(vector_dict.items()):\n",
    "        if i<j and k != k_:\n",
    "            cossim_value = mean_cossim(v, v_)\n",
    "            print(\"{} VS {} \\t\\t {:.10f}\".format(k, k_, cossim_value))\n",
    "            tmp.append([k, k_, cossim_value, 1-cossim_value])"
   ]
  },
  {
   "cell_type": "code",
   "execution_count": 10,
   "metadata": {},
   "outputs": [
    {
     "output_type": "execute_result",
     "data": {
      "text/plain": [
       "       vector A      vector B    cossim  cossim_loss\n",
       "1  prev_context   prev_target  0.999471     0.000529\n",
       "5  next_context   next_target  0.999120     0.000880\n",
       "8   prev_target    now_target  0.983577     0.016423\n",
       "3  prev_context    now_target  0.982565     0.017435\n",
       "9   next_target    now_target  0.980335     0.019665\n",
       "6  next_context    now_target  0.976998     0.023002\n",
       "7   prev_target   next_target  0.964907     0.035093\n",
       "2  prev_context   next_target  0.962625     0.037375\n",
       "4  next_context   prev_target  0.959255     0.040745\n",
       "0  prev_context  next_context  0.956550     0.043450"
      ],
      "text/html": "<div>\n<style scoped>\n    .dataframe tbody tr th:only-of-type {\n        vertical-align: middle;\n    }\n\n    .dataframe tbody tr th {\n        vertical-align: top;\n    }\n\n    .dataframe thead th {\n        text-align: right;\n    }\n</style>\n<table border=\"1\" class=\"dataframe\">\n  <thead>\n    <tr style=\"text-align: right;\">\n      <th></th>\n      <th>vector A</th>\n      <th>vector B</th>\n      <th>cossim</th>\n      <th>cossim_loss</th>\n    </tr>\n  </thead>\n  <tbody>\n    <tr>\n      <th>1</th>\n      <td>prev_context</td>\n      <td>prev_target</td>\n      <td>0.999471</td>\n      <td>0.000529</td>\n    </tr>\n    <tr>\n      <th>5</th>\n      <td>next_context</td>\n      <td>next_target</td>\n      <td>0.999120</td>\n      <td>0.000880</td>\n    </tr>\n    <tr>\n      <th>8</th>\n      <td>prev_target</td>\n      <td>now_target</td>\n      <td>0.983577</td>\n      <td>0.016423</td>\n    </tr>\n    <tr>\n      <th>3</th>\n      <td>prev_context</td>\n      <td>now_target</td>\n      <td>0.982565</td>\n      <td>0.017435</td>\n    </tr>\n    <tr>\n      <th>9</th>\n      <td>next_target</td>\n      <td>now_target</td>\n      <td>0.980335</td>\n      <td>0.019665</td>\n    </tr>\n    <tr>\n      <th>6</th>\n      <td>next_context</td>\n      <td>now_target</td>\n      <td>0.976998</td>\n      <td>0.023002</td>\n    </tr>\n    <tr>\n      <th>7</th>\n      <td>prev_target</td>\n      <td>next_target</td>\n      <td>0.964907</td>\n      <td>0.035093</td>\n    </tr>\n    <tr>\n      <th>2</th>\n      <td>prev_context</td>\n      <td>next_target</td>\n      <td>0.962625</td>\n      <td>0.037375</td>\n    </tr>\n    <tr>\n      <th>4</th>\n      <td>next_context</td>\n      <td>prev_target</td>\n      <td>0.959255</td>\n      <td>0.040745</td>\n    </tr>\n    <tr>\n      <th>0</th>\n      <td>prev_context</td>\n      <td>next_context</td>\n      <td>0.956550</td>\n      <td>0.043450</td>\n    </tr>\n  </tbody>\n</table>\n</div>"
     },
     "metadata": {},
     "execution_count": 10
    }
   ],
   "source": [
    "# 20k samples\n",
    "df = pd.DataFrame(tmp, columns=[\"vector A\", \"vector B\", \"cossim\", \"cossim_loss\"])\n",
    "df.sort_values(\"cossim\", ascending=False)"
   ]
  },
  {
   "source": [
    "## shape(t)同士の距離"
   ],
   "cell_type": "markdown",
   "metadata": {}
  },
  {
   "cell_type": "code",
   "execution_count": 13,
   "metadata": {},
   "outputs": [],
   "source": [
    "vector_withlabel_dict = {\n",
    "    \"prev_context\": {\n",
    "        \"square_circle\": None,\n",
    "        \"triangle_circle\": None,\n",
    "        \"square_triangle\": None\n",
    "    },\n",
    "    \"next_context\": {\n",
    "        \"square_circle\": None,\n",
    "        \"triangle_circle\": None,\n",
    "        \"square_triangle\": None\n",
    "    },\n",
    "    \"prev_target\": {\n",
    "        \"square_circle\": None,\n",
    "        \"triangle_circle\": None,\n",
    "        \"square_triangle\": None\n",
    "    },\n",
    "    \"next_target\": {\n",
    "        \"square_circle\": None,\n",
    "        \"triangle_circle\": None,\n",
    "        \"square_triangle\": None\n",
    "    },\n",
    "    \"now_target\": {\n",
    "        \"square_circle\": None,\n",
    "        \"triangle_circle\": None,\n",
    "        \"square_triangle\": None\n",
    "    },\n",
    "}\n",
    "for i, (name, label_dict) in enumerate(vector_withlabel_dict.items()):\n",
    "    for j, label in enumerate(label_dict.keys()):\n",
    "         vector_withlabel_dict[name][label] = np.array(data.loc[data[View_Column_name]==i].loc[data[\"Label\"]==j].iloc[:, 2:])"
   ]
  },
  {
   "cell_type": "code",
   "execution_count": 50,
   "metadata": {},
   "outputs": [],
   "source": [
    "tmp = []\n",
    "def split_name(prev_next_label, shape_label):\n",
    "    prev_next = prev_next_label.split(\"_\")[0]\n",
    "    prev_, next_ = shape_label.split(\"_\")\n",
    "    if prev_next == \"prev\":\n",
    "        return prev_\n",
    "    elif prev_next == \"next\":\n",
    "        return next_\n",
    "for i, (key, label_dict) in enumerate(vector_withlabel_dict.items()):\n",
    "    for j, (label, v) in enumerate(label_dict.items()):\n",
    "        for k, (key_, label_dict_) in enumerate(vector_withlabel_dict.items()):\n",
    "            for l, (label_, v_) in enumerate(label_dict_.items()):\n",
    "                if \"context\" in key and \"context\" in key_:\n",
    "                    #if key!=key_ and label!=label_:\n",
    "                    if i<=k:\n",
    "                        cossim_value = mean_cossim(v, v_)\n",
    "                        ashape = split_name(key, label)\n",
    "                        bshape = split_name(key_, label_)\n",
    "                        tmp.append([\n",
    "                            key, label, key_, label_,\n",
    "                            ashape+\" vs \"+bshape, cossim_value, 1-cossim_value\n",
    "                            ])\n"
   ]
  },
  {
   "cell_type": "code",
   "execution_count": 52,
   "metadata": {},
   "outputs": [
    {
     "output_type": "execute_result",
     "data": {
      "text/plain": [
       "                        cossim  cossim_loss\n",
       "A_B                                        \n",
       "triangle vs triangle  0.999778     0.000222\n",
       "square vs square      0.999685     0.000315\n",
       "circle vs circle      0.999591     0.000409\n",
       "square vs circle      0.970947     0.029053\n",
       "triangle vs square    0.952149     0.047851\n",
       "square vs triangle    0.951924     0.048076\n",
       "triangle vs circle    0.946423     0.053577\n",
       "circle vs triangle    0.946141     0.053859"
      ],
      "text/html": "<div>\n<style scoped>\n    .dataframe tbody tr th:only-of-type {\n        vertical-align: middle;\n    }\n\n    .dataframe tbody tr th {\n        vertical-align: top;\n    }\n\n    .dataframe thead th {\n        text-align: right;\n    }\n</style>\n<table border=\"1\" class=\"dataframe\">\n  <thead>\n    <tr style=\"text-align: right;\">\n      <th></th>\n      <th>cossim</th>\n      <th>cossim_loss</th>\n    </tr>\n    <tr>\n      <th>A_B</th>\n      <th></th>\n      <th></th>\n    </tr>\n  </thead>\n  <tbody>\n    <tr>\n      <th>triangle vs triangle</th>\n      <td>0.999778</td>\n      <td>0.000222</td>\n    </tr>\n    <tr>\n      <th>square vs square</th>\n      <td>0.999685</td>\n      <td>0.000315</td>\n    </tr>\n    <tr>\n      <th>circle vs circle</th>\n      <td>0.999591</td>\n      <td>0.000409</td>\n    </tr>\n    <tr>\n      <th>square vs circle</th>\n      <td>0.970947</td>\n      <td>0.029053</td>\n    </tr>\n    <tr>\n      <th>triangle vs square</th>\n      <td>0.952149</td>\n      <td>0.047851</td>\n    </tr>\n    <tr>\n      <th>square vs triangle</th>\n      <td>0.951924</td>\n      <td>0.048076</td>\n    </tr>\n    <tr>\n      <th>triangle vs circle</th>\n      <td>0.946423</td>\n      <td>0.053577</td>\n    </tr>\n    <tr>\n      <th>circle vs triangle</th>\n      <td>0.946141</td>\n      <td>0.053859</td>\n    </tr>\n  </tbody>\n</table>\n</div>"
     },
     "metadata": {},
     "execution_count": 52
    }
   ],
   "source": [
    "df = pd.DataFrame(tmp, columns=[\"A\", \"Ashape\", \"B\", \"Bshape\", \"A_B\", \"cossim\", \"cossim_loss\"])\n",
    "df.groupby(\"A_B\").mean().sort_values(\"cossim\", ascending=False)"
   ]
  },
  {
   "cell_type": "code",
   "execution_count": null,
   "metadata": {},
   "outputs": [],
   "source": []
  }
 ]
}