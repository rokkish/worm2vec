{
 "cells": [
  {
   "cell_type": "markdown",
   "metadata": {},
   "source": [
    "## init install"
   ]
  },
  {
   "cell_type": "code",
   "execution_count": 70,
   "metadata": {
    "collapsed": true
   },
   "outputs": [
    {
     "name": "stdout",
     "output_type": "stream",
     "text": [
      "Collecting scikit-image (from -r ../documents/requirements.txt (line 2))\n",
      "\u001b[?25l  Downloading https://files.pythonhosted.org/packages/00/ba/9688afba6ab3714875a8d22284ce0362086e47f3cda60243e5d4de5e5943/scikit_image-0.15.0-cp35-cp35m-manylinux1_x86_64.whl (26.2MB)\n",
      "\u001b[K    100% |################################| 26.2MB 898kB/s eta 0:00:01    61% |###################             | 16.1MB 12.3MB/s eta 0:00:01    65% |#####################           | 17.3MB 10.2MB/s eta 0:00:01\n",
      "\u001b[?25hCollecting torch==1.1.0 (from -r ../documents/requirements.txt (line 3))\n",
      "\u001b[?25l  Downloading https://files.pythonhosted.org/packages/56/9b/a241f6e3d1df013e65e0b03b17e46bd9517036cd9ba9d8cb9384df396e3b/torch-1.1.0-cp35-cp35m-manylinux1_x86_64.whl (676.9MB)\n",
      "\u001b[K    58% |##################              | 392.7MB 11.8MB/s eta 0:00:25 0% |                                | 2.4MB 11.2MB/s eta 0:01:01    0% |                                | 4.8MB 12.3MB/s eta 0:00:55    1% |                                | 13.4MB 10.9MB/s eta 0:01:02    2% |                                | 19.1MB 12.3MB/s eta 0:00:54    5% |#                               | 34.6MB 12.3MB/s eta 0:00:53    5% |#                               | 35.8MB 11.0MB/s eta 0:00:59    5% |#                               | 40.3MB 10.9MB/s eta 0:00:59    6% |#                               | 41.5MB 11.8MB/s eta 0:00:54    6% |##                              | 44.6MB 12.1MB/s eta 0:00:53    6% |##                              | 45.8MB 10.9MB/s eta 0:00:59    6% |##                              | 47.0MB 10.9MB/s eta 0:00:59    7% |##                              | 50.0MB 12.3MB/s eta 0:00:51    10% |###                             | 69.3MB 11.4MB/s eta 0:00:54    10% |###                             | 74.1MB 11.7MB/s eta 0:00:52    11% |###                             | 75.9MB 11.2MB/s eta 0:00:54    11% |###                             | 80.8MB 11.8MB/s eta 0:00:51    12% |####                            | 86.2MB 12.3MB/s eta 0:00:49    13% |####                            | 92.8MB 12.3MB/s eta 0:00:48    14% |####                            | 99.5MB 11.8MB/s eta 0:00:50    14% |####                            | 100.1MB 10.9MB/s eta 0:00:53    15% |####                            | 104.3MB 10.9MB/s eta 0:00:53    15% |####                            | 104.9MB 10.9MB/s eta 0:00:53    17% |#####                           | 117.0MB 6.9MB/s eta 0:01:21    17% |#####                           | 118.0MB 12.1MB/s eta 0:00:47   | 120.5MB 11.1MB/s eta 0:00:50    19% |######                          | 135.0MB 12.1MB/s eta 0:00:45    20% |######                          | 136.2MB 11.4MB/s eta 0:00:48    20% |######                          | 138.7MB 12.3MB/s eta 0:00:44    20% |######                          | 141.2MB 12.2MB/s eta 0:00:44    21% |######                          | 142.4MB 12.3MB/s eta 0:00:44    21% |######                          | 147.8MB 12.2MB/s eta 0:00:44    22% |#######                         | 153.2MB 13.5MB/s eta 0:00:39    23% |#######                         | 156.3MB 11.9MB/s eta 0:00:44    24% |#######                         | 163.5MB 12.0MB/s eta 0:00:43    24% |#######                         | 167.2MB 11.8MB/s eta 0:00:44    25% |########                        | 173.3MB 12.2MB/s eta 0:00:42    25% |########                        | 174.5MB 12.3MB/s eta 0:00:41    25% |########                        | 175.1MB 10.9MB/s eta 0:00:47    26% |########                        | 180.0MB 11.5MB/s eta 0:00:44    26% |########                        | 181.8MB 10.9MB/s eta 0:00:46    27% |########                        | 183.1MB 12.3MB/s eta 0:00:41    27% |########                        | 183.7MB 12.3MB/s eta 0:00:41    27% |########                        | 184.4MB 12.3MB/s eta 0:00:40    27% |########                        | 185.0MB 12.3MB/s eta 0:00:41    27% |########                        | 186.3MB 11.3MB/s eta 0:00:44    27% |########                        | 188.2MB 12.2MB/s eta 0:00:40    28% |#########                       | 194.3MB 12.2MB/s eta 0:00:40    30% |#########                       | 203.4MB 18.1MB/s eta 0:00:27    31% |#########                       | 210.1MB 11.9MB/s eta 0:00:40    31% |#########                       | 210.7MB 11.7MB/s eta 0:00:40    31% |##########                      | 211.9MB 12.0MB/s eta 0:00:39    32% |##########                      | 216.8MB 10.9MB/s eta 0:00:43    32% |##########                      | 219.9MB 12.3MB/s eta 0:00:38    33% |##########                      | 224.1MB 11.5MB/s eta 0:00:40    36% |###########                     | 247.2MB 12.1MB/s eta 0:00:36    38% |############                    | 261.2MB 13.5MB/s eta 0:00:31    38% |############                    | 262.0MB 12.3MB/s eta 0:00:34    38% |############                    | 263.2MB 12.3MB/s eta 0:00:34    39% |############                    | 265.7MB 10.6MB/s eta 0:00:39    39% |############                    | 267.5MB 12.3MB/s eta 0:00:34    39% |############                    | 269.9MB 11.2MB/s eta 0:00:37    40% |############                    | 271.1MB 12.1MB/s eta 0:00:34    40% |############                    | 271.7MB 12.1MB/s eta 0:00:34    40% |############                    | 273.5MB 12.2MB/s eta 0:00:34    40% |#############                   | 275.4MB 12.2MB/s eta 0:00:33    40% |#############                   | 276.0MB 11.9MB/s eta 0:00:34    41% |#############                   | 279.0MB 11.2MB/s eta 0:00:36    41% |#############                   | 282.0MB 10.9MB/s eta 0:00:37    41% |#############                   | 282.7MB 10.8MB/s eta 0:00:37    41% |#############                   | 283.4MB 11.8MB/s eta 0:00:34    42% |#############                   | 284.7MB 11.7MB/s eta 0:00:34    42% |#############                   | 286.5MB 12.3MB/s eta 0:00:32    42% |#############                   | 290.8MB 11.9MB/s eta 0:00:33    43% |#############                   | 293.2MB 12.4MB/s eta 0:00:31    43% |#############                   | 293.7MB 11.6MB/s eta 0:00:34    43% |#############                   | 295.0MB 11.4MB/s eta 0:00:34    43% |##############                  | 297.4MB 11.8MB/s eta 0:00:33    44% |##############                  | 301.1MB 12.3MB/s eta 0:00:31    44% |##############                  | 301.7MB 10.9MB/s eta 0:00:35    45% |##############                  | 305.4MB 12.3MB/s eta 0:00:31    45% |##############                  | 306.6MB 11.6MB/s eta 0:00:32    45% |##############                  | 307.2MB 11.5MB/s eta 0:00:33    45% |##############                  | 307.8MB 10.8MB/s eta 0:00:35    46% |##############                  | 311.6MB 12.2MB/s eta 0:00:30    46% |##############                  | 313.5MB 10.9MB/s eta 0:00:34    46% |##############                  | 315.5MB 12.3MB/s eta 0:00:30    46% |###############                 | 317.5MB 12.3MB/s eta 0:00:30    47% |###############                 | 320.0MB 12.2MB/s eta 0:00:30    48% |###############                 | 325.4MB 11.2MB/s eta 0:00:32    48% |###############                 | 327.2MB 12.4MB/s eta 0:00:29    49% |###############                 | 332.1MB 10.9MB/s eta 0:00:32    52% |################                | 352.1MB 11.9MB/s eta 0:00:28    52% |################                | 358.2MB 11.9MB/s eta 0:00:27    53% |#################               | 360.6MB 11.4MB/s eta 0:00:28    54% |#################               | 367.9MB 12.3MB/s eta 0:00:26    54% |#################               | 372.0MB 28.3MB/s eta 0:00:11    56% |##################              | 382.3MB 10.6MB/s eta 0:00:28    56% |##################              | 382.9MB 12.3MB/s eta 0:00:24    56% |##################              | 384.2MB 10.9MB/s eta 0:00:27    56% |##################              | 384.8MB 11.5MB/s eta 0:00:26    57% |##################              | 387.8MB 12.2MB/s eta 0:00:24    57% |##################              | 389.0MB 12.1MB/s eta 0:00:24    57% |##################              | 389.7MB 11.5MB/s eta 0:00:25    57% |##################              | 390.3MB 11.8MB/s eta 0:00:25    57% |##################              | 390.9MB 11.3MB/s eta 0:00:26    57% |##################              | 391.5MB 11.8MB/s eta 0:00:25    57% |##################              | 392.1MB 11.4MB/s eta 0:00:25\u001b[K    100% |################################| 676.9MB 49kB/s  eta 0:00:01    58% |##################              | 393.9MB 10.9MB/s eta 0:00:26    58% |##################              | 395.2MB 11.1MB/s eta 0:00:26    59% |##################              | 399.5MB 12.3MB/s eta 0:00:23    59% |##################              | 401.4MB 11.5MB/s eta 0:00:24    59% |###################             | 402.6MB 11.8MB/s eta 0:00:24    59% |###################             | 404.5MB 13.3MB/s eta 0:00:21    60% |###################             | 406.3MB 10.9MB/s eta 0:00:25    60% |###################             | 407.0MB 11.1MB/s eta 0:00:25    60% |###################             | 407.6MB 12.3MB/s eta 0:00:22    60% |###################             | 408.2MB 12.1MB/s eta 0:00:23    60% |###################             | 409.4MB 11.3MB/s eta 0:00:24    60% |###################             | 410.0MB 12.3MB/s eta 0:00:22    60% |###################             | 410.3MB 3.0MB/s eta 0:01:28    60% |###################             | 411.2MB 15.8MB/s eta 0:00:17    60% |###################             | 412.4MB 11.8MB/s eta 0:00:23    61% |###################             | 416.2MB 12.2MB/s eta 0:00:22    62% |###################             | 421.7MB 11.5MB/s eta 0:00:23    63% |####################            | 426.5MB 11.1MB/s eta 0:00:23    63% |####################            | 427.1MB 12.3MB/s eta 0:00:21    63% |####################            | 427.7MB 11.1MB/s eta 0:00:23    63% |####################            | 429.0MB 11.7MB/s eta 0:00:22    63% |####################            | 429.7MB 12.1MB/s eta 0:00:21    63% |####################            | 430.3MB 11.2MB/s eta 0:00:23    64% |####################            | 438.3MB 12.1MB/s eta 0:00:20    64% |####################            | 439.5MB 12.3MB/s eta 0:00:20    65% |####################            | 443.1MB 11.2MB/s eta 0:00:21    65% |####################            | 443.5MB 3.3MB/s eta 0:01:12    65% |#####################           | 444.4MB 10.9MB/s eta 0:00:22    66% |#####################           | 448.1MB 11.9MB/s eta 0:00:20    66% |#####################           | 449.9MB 11.9MB/s eta 0:00:20    67% |#####################           | 457.1MB 11.8MB/s eta 0:00:19    67% |#####################           | 460.1MB 11.0MB/s eta 0:00:20    68% |#####################           | 462.0MB 12.1MB/s eta 0:00:18    68% |######################          | 466.8MB 12.3MB/s eta 0:00:18    69% |######################          | 472.9MB 8.8MB/s eta 0:00:24    70% |######################          | 475.9MB 11.2MB/s eta 0:00:18    70% |######################          | 476.9MB 15.5MB/s eta 0:00:13    70% |######################          | 477.7MB 15.7MB/s eta 0:00:13    71% |######################          | 481.3MB 10.7MB/s eta 0:00:19    71% |######################          | 485.7MB 11.0MB/s eta 0:00:18    72% |#######################         | 490.6MB 11.6MB/s eta 0:00:16    72% |#######################         | 492.5MB 12.3MB/s eta 0:00:15    73% |#######################         | 498.0MB 12.2MB/s eta 0:00:15    73% |#######################         | 498.6MB 12.2MB/s eta 0:00:15    74% |#######################         | 501.0MB 12.3MB/s eta 0:00:15    74% |#######################         | 504.1MB 12.3MB/s eta 0:00:15    74% |#######################         | 507.3MB 12.3MB/s eta 0:00:14    75% |########################        | 508.7MB 11.8MB/s eta 0:00:15    75% |########################        | 511.8MB 11.8MB/s eta 0:00:15    75% |########################        | 512.4MB 13.5MB/s eta 0:00:13    75% |########################        | 513.6MB 11.2MB/s eta 0:00:15    75% |########################        | 514.2MB 12.3MB/s eta 0:00:14    76% |########################        | 516.1MB 10.9MB/s eta 0:00:15    77% |########################        | 521.6MB 12.3MB/s eta 0:00:13    78% |########################        | 528.6MB 12.3MB/s eta 0:00:13    78% |#########################       | 530.5MB 12.3MB/s eta 0:00:12    78% |#########################       | 533.0MB 11.2MB/s eta 0:00:13    80% |#########################       | 546.6MB 11.5MB/s eta 0:00:12    80% |#########################       | 547.2MB 11.9MB/s eta 0:00:11    81% |#########################       | 549.7MB 12.6MB/s eta 0:00:11    81% |##########################      | 550.9MB 12.1MB/s eta 0:00:11    81% |##########################      | 551.5MB 11.5MB/s eta 0:00:11    81% |##########################      | 552.8MB 11.0MB/s eta 0:00:12    84% |###########################     | 572.0MB 12.1MB/s eta 0:00:09    85% |###########################     | 576.9MB 12.2MB/s eta 0:00:09    85% |###########################     | 577.5MB 12.3MB/s eta 0:00:09    85% |###########################     | 580.6MB 11.7MB/s eta 0:00:09    86% |###########################     | 583.6MB 11.2MB/s eta 0:00:09    86% |###########################     | 588.5MB 11.6MB/s eta 0:00:08    87% |###########################     | 590.3MB 12.3MB/s eta 0:00:08    87% |###########################     | 591.5MB 12.3MB/s eta 0:00:07    87% |############################    | 592.8MB 12.3MB/s eta 0:00:07    87% |############################    | 594.0MB 12.2MB/s eta 0:00:07    88% |############################    | 596.4MB 11.2MB/s eta 0:00:08    88% |############################    | 599.9MB 18.2MB/s eta 0:00:05    88% |############################    | 600.8MB 11.2MB/s eta 0:00:07    89% |############################    | 602.6MB 10.9MB/s eta 0:00:07    89% |############################    | 604.5MB 11.7MB/s eta 0:00:07    89% |############################    | 606.3MB 12.1MB/s eta 0:00:06    90% |############################    | 610.0MB 12.2MB/s eta 0:00:06    90% |############################    | 612.5MB 11.9MB/s eta 0:00:06    90% |#############################   | 614.9MB 11.0MB/s eta 0:00:06    91% |#############################   | 619.2MB 11.7MB/s eta 0:00:05    92% |#############################   | 625.6MB 12.2MB/s eta 0:00:05    92% |#############################   | 628.1MB 10.6MB/s eta 0:00:05    93% |#############################   | 629.8MB 17.2MB/s eta 0:00:03    93% |#############################   | 632.5MB 12.5MB/s eta 0:00:04    93% |#############################   | 634.3MB 11.7MB/s eta 0:00:04    94% |##############################  | 636.8MB 11.1MB/s eta 0:00:04    94% |##############################  | 638.1MB 11.9MB/s eta 0:00:04    94% |##############################  | 640.2MB 11.8MB/s eta 0:00:04    96% |##############################  | 652.4MB 10.9MB/s eta 0:00:03    96% |##############################  | 653.0MB 11.9MB/s eta 0:00:02    97% |############################### | 660.3MB 10.9MB/s eta 0:00:02    97% |############################### | 660.9MB 10.9MB/s eta 0:00:02    98% |############################### | 669.4MB 10.7MB/s eta 0:00:01\n",
      "\u001b[?25hCollecting torchvision==0.3.0 (from -r ../documents/requirements.txt (line 4))\n",
      "\u001b[?25l  Downloading https://files.pythonhosted.org/packages/44/e9/76f3746e92e473d681b844d6d8d7485f6339a0933557fa6c8353b7864cc0/torchvision-0.3.0-cp35-cp35m-manylinux1_x86_64.whl (2.6MB)\n",
      "\u001b[K    100% |################################| 2.6MB 7.1MB/s eta 0:00:01    64% |####################            | 1.7MB 11.4MB/s eta 0:00:01\n",
      "\u001b[?25hCollecting tensorboardX (from -r ../documents/requirements.txt (line 5))\n",
      "\u001b[?25l  Downloading https://files.pythonhosted.org/packages/af/0c/4f41bcd45db376e6fe5c619c01100e9b7531c55791b7244815bac6eac32c/tensorboardX-2.1-py2.py3-none-any.whl (308kB)\n",
      "\u001b[K    100% |################################| 317kB 10.3MB/s ta 0:00:01\n",
      "\u001b[?25hRequirement already satisfied: pillow>=4.3.0 in /usr/local/lib/python3.5/dist-packages (from scikit-image->-r ../documents/requirements.txt (line 2)) (5.2.0)\n",
      "Requirement already satisfied: matplotlib!=3.0.0,>=2.0.0 in /usr/local/lib/python3.5/dist-packages (from scikit-image->-r ../documents/requirements.txt (line 2)) (2.2.2)\n",
      "Collecting imageio>=2.0.1 (from scikit-image->-r ../documents/requirements.txt (line 2))\n",
      "\u001b[?25l  Downloading https://files.pythonhosted.org/packages/4c/2b/9dd19644f871b10f7e32eb2dbd6b45149c350b4d5f2893e091b882e03ab7/imageio-2.8.0-py3-none-any.whl (3.3MB)\n"
     ]
    },
    {
     "name": "stdout",
     "output_type": "stream",
     "text": [
      "\u001b[K    100% |################################| 3.3MB 6.1MB/s eta 0:00:01    44% |##############                  | 1.5MB 11.7MB/s eta 0:00:01    99% |############################### | 3.3MB 12.2MB/s eta 0:00:01\n",
      "\u001b[?25hRequirement already satisfied: scipy>=0.17.0 in /usr/local/lib/python3.5/dist-packages (from scikit-image->-r ../documents/requirements.txt (line 2)) (1.1.0)\n",
      "Collecting networkx>=2.0 (from scikit-image->-r ../documents/requirements.txt (line 2))\n",
      "\u001b[?25l  Downloading https://files.pythonhosted.org/packages/41/8f/dd6a8e85946def36e4f2c69c84219af0fa5e832b018c970e92f2ad337e45/networkx-2.4-py3-none-any.whl (1.6MB)\n",
      "\u001b[K    100% |################################| 1.6MB 9.2MB/s eta 0:00:01    40% |#############                   | 655kB 12.3MB/s eta 0:00:01\n",
      "\u001b[?25hCollecting PyWavelets>=0.4.0 (from scikit-image->-r ../documents/requirements.txt (line 2))\n",
      "\u001b[?25l  Downloading https://files.pythonhosted.org/packages/7f/25/b2a6099c528fee4a132e1070033191dbaacded2ebe48804ec31b4c9aac13/PyWavelets-1.1.1-cp35-cp35m-manylinux1_x86_64.whl (4.4MB)\n",
      "\u001b[K    100% |################################| 4.4MB 6.2MB/s eta 0:00:01    58% |##################              | 2.5MB 11.7MB/s eta 0:00:01\n",
      "\u001b[?25hRequirement already satisfied: numpy in /usr/local/lib/python3.5/dist-packages (from torch==1.1.0->-r ../documents/requirements.txt (line 3)) (1.14.5)\n",
      "Requirement already satisfied: six in /usr/local/lib/python3.5/dist-packages (from torchvision==0.3.0->-r ../documents/requirements.txt (line 4)) (1.11.0)\n",
      "Collecting protobuf>=3.8.0 (from tensorboardX->-r ../documents/requirements.txt (line 5))\n",
      "\u001b[?25l  Downloading https://files.pythonhosted.org/packages/9c/78/d2cc360e75f00d1dddab6fb51a98f5dadbdff23bce438041d0a89a83c7fd/protobuf-3.12.2-cp35-cp35m-manylinux1_x86_64.whl (1.3MB)\n",
      "\u001b[K    100% |################################| 1.3MB 7.6MB/s eta 0:00:01\n",
      "\u001b[?25hRequirement already satisfied: kiwisolver>=1.0.1 in /usr/local/lib/python3.5/dist-packages (from matplotlib!=3.0.0,>=2.0.0->scikit-image->-r ../documents/requirements.txt (line 2)) (1.0.1)\n",
      "Requirement already satisfied: pyparsing!=2.0.4,!=2.1.2,!=2.1.6,>=2.0.1 in /usr/local/lib/python3.5/dist-packages (from matplotlib!=3.0.0,>=2.0.0->scikit-image->-r ../documents/requirements.txt (line 2)) (2.2.0)\n",
      "Requirement already satisfied: pytz in /usr/local/lib/python3.5/dist-packages (from matplotlib!=3.0.0,>=2.0.0->scikit-image->-r ../documents/requirements.txt (line 2)) (2018.5)\n",
      "Requirement already satisfied: cycler>=0.10 in /usr/local/lib/python3.5/dist-packages (from matplotlib!=3.0.0,>=2.0.0->scikit-image->-r ../documents/requirements.txt (line 2)) (0.10.0)\n",
      "Requirement already satisfied: python-dateutil>=2.1 in /usr/local/lib/python3.5/dist-packages (from matplotlib!=3.0.0,>=2.0.0->scikit-image->-r ../documents/requirements.txt (line 2)) (2.7.3)\n",
      "Requirement already satisfied: decorator>=4.3.0 in /usr/local/lib/python3.5/dist-packages (from networkx>=2.0->scikit-image->-r ../documents/requirements.txt (line 2)) (4.3.0)\n",
      "Requirement already satisfied: setuptools in /usr/local/lib/python3.5/dist-packages (from protobuf>=3.8.0->tensorboardX->-r ../documents/requirements.txt (line 5)) (39.1.0)\n",
      "Installing collected packages: imageio, networkx, PyWavelets, scikit-image, torch, torchvision, protobuf, tensorboardX\n",
      "  Found existing installation: torch 1.5.1\n",
      "    Uninstalling torch-1.5.1:\n",
      "      Successfully uninstalled torch-1.5.1\n",
      "  Found existing installation: protobuf 3.6.0\n",
      "    Uninstalling protobuf-3.6.0:\n",
      "      Successfully uninstalled protobuf-3.6.0\n",
      "Successfully installed PyWavelets-1.1.1 imageio-2.8.0 networkx-2.4 protobuf-3.12.2 scikit-image-0.15.0 tensorboardX-2.1 torch-1.1.0 torchvision-0.3.0\n",
      "\u001b[33mYou are using pip version 10.0.1, however version 20.2b1 is available.\n",
      "You should consider upgrading via the 'pip install --upgrade pip' command.\u001b[0m\n"
     ]
    }
   ],
   "source": [
    "!pip install -r ../documents/requirements.txt"
   ]
  },
  {
   "cell_type": "markdown",
   "metadata": {},
   "source": [
    "## DL, unzip rotatedMNIST"
   ]
  },
  {
   "cell_type": "code",
   "execution_count": 11,
   "metadata": {},
   "outputs": [
    {
     "name": "stdout",
     "output_type": "stream",
     "text": [
      "Archive:  ../../data/rotatedMNIST/mnist_rotation_new.zip\n",
      "  inflating: ../../data/rotatedMNIST/mnist_rotation_new/mnist_all_rotation_normalized_float_train_valid.amat  \n",
      "  inflating: ../../data/rotatedMNIST/mnist_rotation_new/mnist_all_rotation_normalized_float_test.amat  \n"
     ]
    }
   ],
   "source": [
    "!unzip \"../../data/rotatedMNIST/mnist_rotation_new\" -d \"../../data/rotatedMNIST/mnist_rotation_new\""
   ]
  },
  {
   "cell_type": "markdown",
   "metadata": {},
   "source": [
    "## Load MNIST"
   ]
  },
  {
   "cell_type": "markdown",
   "metadata": {},
   "source": [
    "All the datasets are provided as zip archives. Each archive contains two files -- a training (and validation) set and a test set. We used the last 2000 examples of the training sets as validation sets and, in the case of SVMs, retrained the models with the entire set after choosing the optimal parameters on these validation sets. Data is stored at one example per row, the features being space-separated. There are 784 features per example (=28*28 images), corresponding to the first 784 columns of each row. The last column is the label, which is 0 to 9."
   ]
  },
  {
   "cell_type": "code",
   "execution_count": 1,
   "metadata": {},
   "outputs": [],
   "source": [
    "import numpy as np"
   ]
  },
  {
   "cell_type": "code",
   "execution_count": 2,
   "metadata": {},
   "outputs": [],
   "source": [
    "def load_binarized_mnist_rot(path):\n",
    "    # rotated\n",
    "    train_x = np.loadtxt(path + \"mnist_all_rotation_normalized_float_train_valid.amat\")\n",
    "    test_x = np.loadtxt(path + \"mnist_all_rotation_normalized_float_test.amat\")\n",
    "    return train_x, test_x\n",
    "def load_binarized_mnist(path):\n",
    "    # mnist\n",
    "    train_x = np.loadtxt(path + \"mnist_train.amat\")\n",
    "    test_x = np.loadtxt(path + \"mnist_test.amat\")\n",
    "    return train_x, test_x"
   ]
  },
  {
   "cell_type": "code",
   "execution_count": 3,
   "metadata": {},
   "outputs": [],
   "source": [
    "train_x, test_x = load_binarized_mnist(\"../../data/MNIST/mnist/\")\n",
    "train_x_rot, test_x_rot = load_binarized_mnist_rot(\"../../data/rotatedMNIST/mnist_rotation_new/\")"
   ]
  },
  {
   "cell_type": "code",
   "execution_count": 4,
   "metadata": {},
   "outputs": [
    {
     "data": {
      "text/plain": [
       "((12000, 785), numpy.ndarray, (50000, 785))"
      ]
     },
     "execution_count": 4,
     "metadata": {},
     "output_type": "execute_result"
    }
   ],
   "source": [
    "train_x.shape, type(train_x), test_x.shape"
   ]
  },
  {
   "cell_type": "markdown",
   "metadata": {},
   "source": [
    "## About MNIST"
   ]
  },
  {
   "cell_type": "code",
   "execution_count": 5,
   "metadata": {},
   "outputs": [],
   "source": [
    "import collections"
   ]
  },
  {
   "cell_type": "code",
   "execution_count": 6,
   "metadata": {},
   "outputs": [],
   "source": [
    "import matplotlib.pyplot as plt"
   ]
  },
  {
   "cell_type": "code",
   "execution_count": 7,
   "metadata": {},
   "outputs": [],
   "source": [
    "labels_train = [train_x[i, -1] for i in range(train_x.shape[0])]\n",
    "labels_test = [test_x[i, -1] for i in range(train_x.shape[0])]"
   ]
  },
  {
   "cell_type": "code",
   "execution_count": 8,
   "metadata": {},
   "outputs": [],
   "source": [
    "labels_train_rot = [train_x_rot[i, -1] for i in range(train_x_rot.shape[0])]\n",
    "labels_test_rot = [test_x_rot[i, -1] for i in range(train_x_rot.shape[0])]"
   ]
  },
  {
   "cell_type": "code",
   "execution_count": 9,
   "metadata": {},
   "outputs": [
    {
     "data": {
      "image/png": "[encoded data removed]",
      "text/plain": [
       "<Figure size 432x288 with 1 Axes>"
      ]
     },
     "metadata": {},
     "output_type": "display_data"
    }
   ],
   "source": [
    "plt.plot(collections.Counter(labels_train).values(), label=\"train\")\n",
    "plt.plot(collections.Counter(labels_test).values(), label=\"test\")\n",
    "\n",
    "plt.plot(collections.Counter(labels_train_rot).values(), label=\"train rot\")\n",
    "plt.plot(collections.Counter(labels_test_rot).values(), label=\"test rot\")\n",
    "\n",
    "plt.ylabel(\"Count\")\n",
    "plt.xlabel(\"Number\")\n",
    "plt.legend()\n",
    "plt.show()"
   ]
  },
  {
   "cell_type": "markdown",
   "metadata": {},
   "source": [
    "-----"
   ]
  },
  {
   "cell_type": "markdown",
   "metadata": {},
   "source": [
    "-----"
   ]
  },
  {
   "cell_type": "markdown",
   "metadata": {},
   "source": [
    "# 以下から実行"
   ]
  },
  {
   "cell_type": "markdown",
   "metadata": {},
   "source": [
    "## set args"
   ]
  },
  {
   "cell_type": "code",
   "execution_count": 10,
   "metadata": {},
   "outputs": [],
   "source": [
    "import torch"
   ]
  },
  {
   "cell_type": "code",
   "execution_count": 11,
   "metadata": {},
   "outputs": [],
   "source": [
    "from tensorboardX import SummaryWriter\n",
    "\n",
    "class Args():\n",
    "    gpu_id = 0\n",
    "    epoch = 30\n",
    "    num_pos = 1\n",
    "    num_neg = 1\n",
    "    zsize = 128\n",
    "    batch_size = 1000\n",
    "    max_len = 10000\n",
    "    logdir = \"mnist_margin01_data10k\"\n",
    "    shuffle = {\"train\":False, \"test\":False}\n",
    "    loss_function_name = \"TripletMargin\"\n",
    "    model_name = \"test_mninst\"\n",
    "    device = torch.device(\"cuda:\" + str(gpu_id) if torch.cuda.is_available() else \"cpu\")\n",
    "    max_predict = 1\n",
    "    margin = 0.1\n",
    "    data_dir = \"../../data/MNIST/mnist/\"\n",
    "#    data_dir = \"../../data/rotatedMNIST/mnist_rotation_new/\"\n",
    "\n",
    "args = Args()\n",
    "writer = SummaryWriter(log_dir=\"../log/tensorboard/\" + args.logdir)\n"
   ]
  },
  {
   "cell_type": "markdown",
   "metadata": {},
   "source": [
    "## define model"
   ]
  },
  {
   "cell_type": "code",
   "execution_count": 12,
   "metadata": {},
   "outputs": [],
   "source": [
    "from models.worm2vec_non_sequential import Worm2vec_nonseq, Lossfunction\n",
    "import torch.optim as optim\n",
    "import config"
   ]
  },
  {
   "cell_type": "code",
   "execution_count": 13,
   "metadata": {},
   "outputs": [],
   "source": [
    "# model\n",
    "model = Worm2vec_nonseq(zsize=args.zsize)\n",
    "model.weight_init(mean=0, std=0.02)\n",
    "\n",
    "# optimizer\n",
    "args.optimizer = optim.SGD(model.parameters(), lr=0.01, momentum=0.9)\n",
    "#optimizer = optim.Adam(model.parameters(), lr=0.01)\n",
    "\n",
    "# lossfunction\n",
    "args.loss_function = Lossfunction(args.loss_function_name,\n",
    "                             num_pos=args.num_pos,\n",
    "                             num_neg=args.num_neg,\n",
    "                             batchsize=args.batch_size,\n",
    "                             tau=config.tau,\n",
    "                             margin=args.margin)"
   ]
  },
  {
   "cell_type": "code",
   "execution_count": 14,
   "metadata": {
    "scrolled": true
   },
   "outputs": [
    {
     "data": {
      "text/plain": [
       "Worm2vec_nonseq(\n",
       "  (enc): Sequential(\n",
       "    (0): MaxPool2d(kernel_size=2, stride=2, padding=0, dilation=1, ceil_mode=False)\n",
       "    (1): Conv2d(1, 8, kernel_size=(3, 3), stride=(1, 1), padding=(1, 1))\n",
       "    (2): BatchNorm2d(8, eps=1e-05, momentum=0.1, affine=True, track_running_stats=True)\n",
       "    (3): ReLU(inplace)\n",
       "    (4): Conv2d(8, 8, kernel_size=(3, 3), stride=(1, 1), padding=(1, 1))\n",
       "    (5): BatchNorm2d(8, eps=1e-05, momentum=0.1, affine=True, track_running_stats=True)\n",
       "    (6): ReLU(inplace)\n",
       "    (7): MaxPool2d(kernel_size=2, stride=2, padding=0, dilation=1, ceil_mode=False)\n",
       "    (8): Conv2d(8, 16, kernel_size=(3, 3), stride=(1, 1), padding=(1, 1))\n",
       "    (9): BatchNorm2d(16, eps=1e-05, momentum=0.1, affine=True, track_running_stats=True)\n",
       "    (10): ReLU(inplace)\n",
       "    (11): Conv2d(16, 16, kernel_size=(3, 3), stride=(1, 1), padding=(1, 1))\n",
       "    (12): BatchNorm2d(16, eps=1e-05, momentum=0.1, affine=True, track_running_stats=True)\n",
       "    (13): ReLU(inplace)\n",
       "    (14): MaxPool2d(kernel_size=2, stride=2, padding=0, dilation=1, ceil_mode=False)\n",
       "    (15): Conv2d(16, 32, kernel_size=(3, 3), stride=(1, 1), padding=(1, 1))\n",
       "    (16): BatchNorm2d(32, eps=1e-05, momentum=0.1, affine=True, track_running_stats=True)\n",
       "    (17): ReLU(inplace)\n",
       "    (18): Conv2d(32, 32, kernel_size=(3, 3), stride=(1, 1), padding=(1, 1))\n",
       "    (19): BatchNorm2d(32, eps=1e-05, momentum=0.1, affine=True, track_running_stats=True)\n",
       "    (20): ReLU(inplace)\n",
       "    (21): MaxPool2d(kernel_size=2, stride=2, padding=0, dilation=1, ceil_mode=False)\n",
       "    (22): Conv2d(32, 64, kernel_size=(3, 3), stride=(1, 1), padding=(1, 1))\n",
       "    (23): BatchNorm2d(64, eps=1e-05, momentum=0.1, affine=True, track_running_stats=True)\n",
       "    (24): ReLU(inplace)\n",
       "    (25): Conv2d(64, 64, kernel_size=(3, 3), stride=(1, 1), padding=(1, 1))\n",
       "    (26): BatchNorm2d(64, eps=1e-05, momentum=0.1, affine=True, track_running_stats=True)\n",
       "    (27): ReLU(inplace)\n",
       "    (28): MaxPool2d(kernel_size=2, stride=2, padding=0, dilation=1, ceil_mode=False)\n",
       "    (29): Conv2d(64, 128, kernel_size=(3, 3), stride=(1, 1), padding=(1, 1))\n",
       "    (30): BatchNorm2d(128, eps=1e-05, momentum=0.1, affine=True, track_running_stats=True)\n",
       "    (31): ReLU(inplace)\n",
       "    (32): Conv2d(128, 128, kernel_size=(3, 3), stride=(1, 1), padding=(1, 1))\n",
       "    (33): BatchNorm2d(128, eps=1e-05, momentum=0.1, affine=True, track_running_stats=True)\n",
       "    (34): ReLU(inplace)\n",
       "    (35): AvgPool2d(kernel_size=2, stride=2, padding=0)\n",
       "  )\n",
       "  (m_original): Linear(in_features=128, out_features=64, bias=True)\n",
       ")"
      ]
     },
     "execution_count": 14,
     "metadata": {},
     "output_type": "execute_result"
    }
   ],
   "source": [
    "model.to(args.device)"
   ]
  },
  {
   "cell_type": "code",
   "execution_count": 16,
   "metadata": {},
   "outputs": [
    {
     "name": "stdout",
     "output_type": "stream",
     "text": [
      "Collecting torchsummary\n",
      "  Downloading https://files.pythonhosted.org/packages/7d/18/1474d06f721b86e6a9b9d7392ad68bed711a02f3b61ac43f13c719db50a6/torchsummary-1.5.1-py3-none-any.whl\n",
      "Installing collected packages: torchsummary\n",
      "Successfully installed torchsummary-1.5.1\n",
      "\u001b[33mYou are using pip version 10.0.1, however version 20.2b1 is available.\n",
      "You should consider upgrading via the 'pip install --upgrade pip' command.\u001b[0m\n"
     ]
    }
   ],
   "source": [
    "!pip install torchsummary"
   ]
  },
  {
   "cell_type": "code",
   "execution_count": 27,
   "metadata": {
    "scrolled": false
   },
   "outputs": [
    {
     "name": "stdout",
     "output_type": "stream",
     "text": [
      "----------------------------------------------------------------\n",
      "        Layer (type)               Output Shape         Param #\n",
      "================================================================\n",
      "         MaxPool2d-1            [-1, 1, 32, 32]               0\n",
      "            Conv2d-2            [-1, 8, 32, 32]              80\n",
      "       BatchNorm2d-3            [-1, 8, 32, 32]              16\n",
      "              ReLU-4            [-1, 8, 32, 32]               0\n",
      "            Conv2d-5            [-1, 8, 32, 32]             584\n",
      "       BatchNorm2d-6            [-1, 8, 32, 32]              16\n",
      "              ReLU-7            [-1, 8, 32, 32]               0\n",
      "         MaxPool2d-8            [-1, 8, 16, 16]               0\n",
      "            Conv2d-9           [-1, 16, 16, 16]           1,168\n",
      "      BatchNorm2d-10           [-1, 16, 16, 16]              32\n",
      "             ReLU-11           [-1, 16, 16, 16]               0\n",
      "           Conv2d-12           [-1, 16, 16, 16]           2,320\n",
      "      BatchNorm2d-13           [-1, 16, 16, 16]              32\n",
      "             ReLU-14           [-1, 16, 16, 16]               0\n",
      "        MaxPool2d-15             [-1, 16, 8, 8]               0\n",
      "           Conv2d-16             [-1, 32, 8, 8]           4,640\n",
      "      BatchNorm2d-17             [-1, 32, 8, 8]              64\n",
      "             ReLU-18             [-1, 32, 8, 8]               0\n",
      "           Conv2d-19             [-1, 32, 8, 8]           9,248\n",
      "      BatchNorm2d-20             [-1, 32, 8, 8]              64\n",
      "             ReLU-21             [-1, 32, 8, 8]               0\n",
      "        MaxPool2d-22             [-1, 32, 4, 4]               0\n",
      "           Conv2d-23             [-1, 64, 4, 4]          18,496\n",
      "      BatchNorm2d-24             [-1, 64, 4, 4]             128\n",
      "             ReLU-25             [-1, 64, 4, 4]               0\n",
      "           Conv2d-26             [-1, 64, 4, 4]          36,928\n",
      "      BatchNorm2d-27             [-1, 64, 4, 4]             128\n",
      "             ReLU-28             [-1, 64, 4, 4]               0\n",
      "        MaxPool2d-29             [-1, 64, 2, 2]               0\n",
      "           Conv2d-30            [-1, 128, 2, 2]          73,856\n",
      "      BatchNorm2d-31            [-1, 128, 2, 2]             256\n",
      "             ReLU-32            [-1, 128, 2, 2]               0\n",
      "           Conv2d-33            [-1, 128, 2, 2]         147,584\n",
      "      BatchNorm2d-34            [-1, 128, 2, 2]             256\n",
      "             ReLU-35            [-1, 128, 2, 2]               0\n",
      "        AvgPool2d-36            [-1, 128, 1, 1]               0\n",
      "        MaxPool2d-37            [-1, 1, 32, 32]               0\n",
      "           Conv2d-38            [-1, 8, 32, 32]              80\n",
      "      BatchNorm2d-39            [-1, 8, 32, 32]              16\n",
      "             ReLU-40            [-1, 8, 32, 32]               0\n",
      "           Conv2d-41            [-1, 8, 32, 32]             584\n",
      "      BatchNorm2d-42            [-1, 8, 32, 32]              16\n",
      "             ReLU-43            [-1, 8, 32, 32]               0\n",
      "        MaxPool2d-44            [-1, 8, 16, 16]               0\n",
      "           Conv2d-45           [-1, 16, 16, 16]           1,168\n",
      "      BatchNorm2d-46           [-1, 16, 16, 16]              32\n",
      "             ReLU-47           [-1, 16, 16, 16]               0\n",
      "           Conv2d-48           [-1, 16, 16, 16]           2,320\n",
      "      BatchNorm2d-49           [-1, 16, 16, 16]              32\n",
      "             ReLU-50           [-1, 16, 16, 16]               0\n",
      "        MaxPool2d-51             [-1, 16, 8, 8]               0\n",
      "           Conv2d-52             [-1, 32, 8, 8]           4,640\n",
      "      BatchNorm2d-53             [-1, 32, 8, 8]              64\n",
      "             ReLU-54             [-1, 32, 8, 8]               0\n",
      "           Conv2d-55             [-1, 32, 8, 8]           9,248\n",
      "      BatchNorm2d-56             [-1, 32, 8, 8]              64\n",
      "             ReLU-57             [-1, 32, 8, 8]               0\n",
      "        MaxPool2d-58             [-1, 32, 4, 4]               0\n",
      "           Conv2d-59             [-1, 64, 4, 4]          18,496\n",
      "      BatchNorm2d-60             [-1, 64, 4, 4]             128\n",
      "             ReLU-61             [-1, 64, 4, 4]               0\n",
      "           Conv2d-62             [-1, 64, 4, 4]          36,928\n",
      "      BatchNorm2d-63             [-1, 64, 4, 4]             128\n",
      "             ReLU-64             [-1, 64, 4, 4]               0\n",
      "        MaxPool2d-65             [-1, 64, 2, 2]               0\n",
      "           Conv2d-66            [-1, 128, 2, 2]          73,856\n",
      "      BatchNorm2d-67            [-1, 128, 2, 2]             256\n",
      "             ReLU-68            [-1, 128, 2, 2]               0\n",
      "           Conv2d-69            [-1, 128, 2, 2]         147,584\n",
      "      BatchNorm2d-70            [-1, 128, 2, 2]             256\n",
      "             ReLU-71            [-1, 128, 2, 2]               0\n",
      "        AvgPool2d-72            [-1, 128, 1, 1]               0\n",
      "        MaxPool2d-73            [-1, 1, 32, 32]               0\n",
      "           Conv2d-74            [-1, 8, 32, 32]              80\n",
      "      BatchNorm2d-75            [-1, 8, 32, 32]              16\n",
      "             ReLU-76            [-1, 8, 32, 32]               0\n",
      "           Conv2d-77            [-1, 8, 32, 32]             584\n",
      "      BatchNorm2d-78            [-1, 8, 32, 32]              16\n",
      "             ReLU-79            [-1, 8, 32, 32]               0\n",
      "        MaxPool2d-80            [-1, 8, 16, 16]               0\n",
      "           Conv2d-81           [-1, 16, 16, 16]           1,168\n",
      "      BatchNorm2d-82           [-1, 16, 16, 16]              32\n",
      "             ReLU-83           [-1, 16, 16, 16]               0\n",
      "           Conv2d-84           [-1, 16, 16, 16]           2,320\n",
      "      BatchNorm2d-85           [-1, 16, 16, 16]              32\n",
      "             ReLU-86           [-1, 16, 16, 16]               0\n",
      "        MaxPool2d-87             [-1, 16, 8, 8]               0\n",
      "           Conv2d-88             [-1, 32, 8, 8]           4,640\n",
      "      BatchNorm2d-89             [-1, 32, 8, 8]              64\n",
      "             ReLU-90             [-1, 32, 8, 8]               0\n",
      "           Conv2d-91             [-1, 32, 8, 8]           9,248\n",
      "      BatchNorm2d-92             [-1, 32, 8, 8]              64\n",
      "             ReLU-93             [-1, 32, 8, 8]               0\n",
      "        MaxPool2d-94             [-1, 32, 4, 4]               0\n",
      "           Conv2d-95             [-1, 64, 4, 4]          18,496\n",
      "      BatchNorm2d-96             [-1, 64, 4, 4]             128\n",
      "             ReLU-97             [-1, 64, 4, 4]               0\n",
      "           Conv2d-98             [-1, 64, 4, 4]          36,928\n",
      "      BatchNorm2d-99             [-1, 64, 4, 4]             128\n",
      "            ReLU-100             [-1, 64, 4, 4]               0\n",
      "       MaxPool2d-101             [-1, 64, 2, 2]               0\n",
      "          Conv2d-102            [-1, 128, 2, 2]          73,856\n",
      "     BatchNorm2d-103            [-1, 128, 2, 2]             256\n",
      "            ReLU-104            [-1, 128, 2, 2]               0\n",
      "          Conv2d-105            [-1, 128, 2, 2]         147,584\n",
      "     BatchNorm2d-106            [-1, 128, 2, 2]             256\n",
      "            ReLU-107            [-1, 128, 2, 2]               0\n",
      "       AvgPool2d-108            [-1, 128, 1, 1]               0\n",
      "          Linear-109                   [-1, 64]           8,256\n",
      "          Linear-110                   [-1, 64]           8,256\n",
      "          Linear-111                   [-1, 64]           8,256\n",
      "================================================================\n",
      "Total params: 912,456\n",
      "Trainable params: 912,456\n",
      "Non-trainable params: 0\n",
      "----------------------------------------------------------------\n",
      "Input size (MB): 262144.00\n",
      "Forward/backward pass size (MB): 2.30\n",
      "Params size (MB): 3.48\n",
      "Estimated Total Size (MB): 262149.78\n",
      "----------------------------------------------------------------\n"
     ]
    }
   ],
   "source": [
    "from torchsummary import summary\n",
    "summary(model, [(1, 64, 64), (1, 64, 64), (1, 64, 64)])"
   ]
  },
  {
   "cell_type": "markdown",
   "metadata": {},
   "source": [
    "## define loader "
   ]
  },
  {
   "cell_type": "code",
   "execution_count": 6,
   "metadata": {},
   "outputs": [],
   "source": [
    "from features.rot_mnist_dataset import RotMnistDataset\n",
    "from torchvision import transforms\n",
    "from features.worm_transform import Resize_nonbinary, Normalize"
   ]
  },
  {
   "cell_type": "code",
   "execution_count": 7,
   "metadata": {},
   "outputs": [],
   "source": [
    "def get_loader():\n",
    "    \"\"\"\n",
    "    Return:\n",
    "        train_loader\n",
    "        test_loader\n",
    "    \"\"\"\n",
    "    mnist_transforms = transforms.Compose([\n",
    "        Normalize(max_value=255),\n",
    "        Resize_nonbinary((config.IMG_SIZE, config.IMG_SIZE)),\n",
    "        Normalize(max_value=1)]\n",
    "    )\n",
    "\n",
    "    train_dataset = RotMnistDataset(root=args.data_dir,\n",
    "                                train=True,\n",
    "                                num_pos=args.num_pos,\n",
    "                                num_neg=args.num_neg,\n",
    "                                batch_size=args.batch_size,\n",
    "                                max_len=args.max_len,\n",
    "                                transform=mnist_transforms)\n",
    "\n",
    "    train_loader = torch.utils.data.DataLoader(\n",
    "        train_dataset, batch_size=args.batch_size, shuffle=args.shuffle[\"train\"])\n",
    "    \n",
    "    test_dataset = RotMnistDataset(root=args.data_dir,\n",
    "                                train=False,\n",
    "                                num_pos=args.num_pos,\n",
    "                                num_neg=args.num_neg,\n",
    "                                batch_size=args.batch_size,\n",
    "                                max_len=args.max_len,\n",
    "                                transform=mnist_transforms)\n",
    "\n",
    "    test_loader = torch.utils.data.DataLoader(\n",
    "        test_dataset, batch_size=args.batch_size, shuffle=args.shuffle[\"test\"])\n",
    "\n",
    "    return train_loader, test_loader"
   ]
  },
  {
   "cell_type": "code",
   "execution_count": 8,
   "metadata": {},
   "outputs": [],
   "source": [
    "train_loader, test_loader = get_loader()"
   ]
  },
  {
   "cell_type": "markdown",
   "metadata": {},
   "source": [
    "## test image plot"
   ]
  },
  {
   "cell_type": "code",
   "execution_count": 9,
   "metadata": {},
   "outputs": [],
   "source": [
    "from PIL import Image\n",
    "import matplotlib.pyplot as plt\n",
    "import numpy as np"
   ]
  },
  {
   "cell_type": "code",
   "execution_count": 10,
   "metadata": {
    "scrolled": true
   },
   "outputs": [
    {
     "name": "stdout",
     "output_type": "stream",
     "text": [
      "0 torch.Size([1000, 1, 1, 64, 64]) torch.Size([1000, 1, 1, 64, 64]) torch.Size([1000, 1, 1, 64, 64])\n"
     ]
    },
    {
     "data": {
      "image/png": "[encoded data removed]",
      "text/plain": [
       "<Figure size 432x288 with 1 Axes>"
      ]
     },
     "metadata": {},
     "output_type": "display_data"
    },
    {
     "data": {
      "image/png": "[encoded data removed]",
      "text/plain": [
       "<Figure size 432x288 with 1 Axes>"
      ]
     },
     "metadata": {},
     "output_type": "display_data"
    },
    {
     "data": {
      "image/png": "[encoded data removed]",
      "text/plain": [
       "<Figure size 432x288 with 1 Axes>"
      ]
     },
     "metadata": {},
     "output_type": "display_data"
    }
   ],
   "source": [
    "# mnist\n",
    "for i, (a, p, n, labels) in enumerate(train_loader):\n",
    "    print(i, a.shape, p.shape, n.shape)\n",
    "    plt.imshow(np.asarray(a[0, 0, 0]))\n",
    "    plt.title(labels[0][0])\n",
    "    plt.show()\n",
    "    plt.imshow(np.asarray(p[0, 0, 0]))\n",
    "    plt.title(labels[1][0])\n",
    "    plt.show()\n",
    "    plt.imshow(np.asarray(n[0, 0, 0]))\n",
    "    plt.title(labels[2][0])\n",
    "    plt.show()\n",
    "    break"
   ]
  },
  {
   "cell_type": "code",
   "execution_count": 11,
   "metadata": {
    "scrolled": true
   },
   "outputs": [
    {
     "name": "stdout",
     "output_type": "stream",
     "text": [
      "0 torch.Size([1, 1, 1, 64, 64]) torch.Size([1, 3, 1, 64, 64]) torch.Size([1, 9, 1, 64, 64])\n"
     ]
    },
    {
     "data": {
      "image/png": "[encoded data removed]",
      "text/plain": [
       "<Figure size 432x288 with 1 Axes>"
      ]
     },
     "metadata": {},
     "output_type": "display_data"
    },
    {
     "data": {
      "image/png": "[encoded data removed]",
      "text/plain": [
       "<Figure size 432x288 with 1 Axes>"
      ]
     },
     "metadata": {},
     "output_type": "display_data"
    },
    {
     "data": {
      "image/png": "[encoded data removed]",
      "text/plain": [
       "<Figure size 432x288 with 1 Axes>"
      ]
     },
     "metadata": {},
     "output_type": "display_data"
    }
   ],
   "source": [
    "# rotated\n",
    "for i, (a, p, n) in enumerate(train_loader):\n",
    "    print(i, a.shape, p.shape, n.shape)\n",
    "    plt.imshow(np.asarray(a[0, 0, 0]))\n",
    "    plt.show()\n",
    "    plt.imshow(np.asarray(p[0, 0, 0]))\n",
    "    plt.show()\n",
    "    plt.imshow(np.asarray(n[0, 0, 0]))\n",
    "    plt.show()\n",
    "    break"
   ]
  },
  {
   "cell_type": "markdown",
   "metadata": {},
   "source": [
    "---"
   ]
  },
  {
   "cell_type": "markdown",
   "metadata": {},
   "source": [
    "## train"
   ]
  },
  {
   "cell_type": "code",
   "execution_count": 11,
   "metadata": {},
   "outputs": [],
   "source": [
    "from trainer import Trainer"
   ]
  },
  {
   "cell_type": "code",
   "execution_count": 12,
   "metadata": {},
   "outputs": [],
   "source": [
    "trainer = Trainer(model,\n",
    "                  args.optimizer,\n",
    "                  writer,\n",
    "                  args.device,\n",
    "                  args.epoch,\n",
    "                  args.gpu_id,\n",
    "                  args.loss_function)"
   ]
  },
  {
   "cell_type": "code",
   "execution_count": 13,
   "metadata": {
    "scrolled": true
   },
   "outputs": [
    {
     "name": "stderr",
     "output_type": "stream",
     "text": [
      "[2020-07-08 03:45:40,410] - [trainer] - [INFO] - Epoch: 1/30 GPU: 0\n",
      "[2020-07-08 03:47:24,071] - [trainer] - [INFO] - Epoch: 2/30 GPU: 0\n",
      "[2020-07-08 03:49:01,458] - [trainer] - [INFO] - Epoch: 3/30 GPU: 0\n",
      "[2020-07-08 03:50:42,137] - [trainer] - [INFO] - Epoch: 4/30 GPU: 0\n",
      "[2020-07-08 03:52:23,367] - [trainer] - [INFO] - Epoch: 5/30 GPU: 0\n",
      "[2020-07-08 03:54:14,978] - [trainer] - [INFO] - Epoch: 6/30 GPU: 0\n",
      "[2020-07-08 03:56:04,823] - [trainer] - [INFO] - Epoch: 7/30 GPU: 0\n",
      "[2020-07-08 03:57:51,188] - [trainer] - [INFO] - Epoch: 8/30 GPU: 0\n",
      "[2020-07-08 03:59:38,024] - [trainer] - [INFO] - Epoch: 9/30 GPU: 0\n",
      "[2020-07-08 04:01:27,028] - [trainer] - [INFO] - Epoch: 10/30 GPU: 0\n",
      "[2020-07-08 04:03:12,552] - [trainer] - [INFO] - Epoch: 11/30 GPU: 0\n",
      "[2020-07-08 04:05:01,290] - [trainer] - [INFO] - Epoch: 12/30 GPU: 0\n",
      "[2020-07-08 04:06:47,480] - [trainer] - [INFO] - Epoch: 13/30 GPU: 0\n",
      "[2020-07-08 04:08:33,613] - [trainer] - [INFO] - Epoch: 14/30 GPU: 0\n",
      "[2020-07-08 04:10:21,625] - [trainer] - [INFO] - Epoch: 15/30 GPU: 0\n",
      "[2020-07-08 04:12:10,034] - [trainer] - [INFO] - Epoch: 16/30 GPU: 0\n",
      "[2020-07-08 04:13:58,746] - [trainer] - [INFO] - Epoch: 17/30 GPU: 0\n",
      "[2020-07-08 04:15:48,444] - [trainer] - [INFO] - Epoch: 18/30 GPU: 0\n",
      "[2020-07-08 04:17:35,078] - [trainer] - [INFO] - Epoch: 19/30 GPU: 0\n",
      "[2020-07-08 04:19:22,347] - [trainer] - [INFO] - Epoch: 20/30 GPU: 0\n",
      "[2020-07-08 04:21:13,861] - [trainer] - [INFO] - Epoch: 21/30 GPU: 0\n",
      "[2020-07-08 04:23:01,449] - [trainer] - [INFO] - Epoch: 22/30 GPU: 0\n",
      "[2020-07-08 04:24:54,223] - [trainer] - [INFO] - Epoch: 23/30 GPU: 0\n",
      "[2020-07-08 04:26:39,091] - [trainer] - [INFO] - Epoch: 24/30 GPU: 0\n",
      "[2020-07-08 04:28:30,012] - [trainer] - [INFO] - Epoch: 25/30 GPU: 0\n",
      "[2020-07-08 04:30:18,883] - [trainer] - [INFO] - Epoch: 26/30 GPU: 0\n",
      "[2020-07-08 04:32:14,086] - [trainer] - [INFO] - Epoch: 27/30 GPU: 0\n",
      "[2020-07-08 04:34:03,710] - [trainer] - [INFO] - Epoch: 28/30 GPU: 0\n",
      "[2020-07-08 04:35:50,677] - [trainer] - [INFO] - Epoch: 29/30 GPU: 0\n",
      "[2020-07-08 04:37:37,706] - [trainer] - [INFO] - Epoch: 30/30 GPU: 0\n"
     ]
    }
   ],
   "source": [
    "trainer.fit(train_loader=train_loader, test_loader=test_loader)"
   ]
  },
  {
   "cell_type": "markdown",
   "metadata": {},
   "source": [
    "## save model"
   ]
  },
  {
   "cell_type": "code",
   "execution_count": 14,
   "metadata": {},
   "outputs": [],
   "source": [
    "writer.close()"
   ]
  },
  {
   "cell_type": "code",
   "execution_count": 15,
   "metadata": {},
   "outputs": [],
   "source": [
    "# Save model\n",
    "torch.save(model.state_dict(), \"../models/\" + args.model_name + \".pkl\")\n",
    "\n",
    "#logger.info(\"End train\")\n"
   ]
  },
  {
   "cell_type": "markdown",
   "metadata": {},
   "source": [
    "---"
   ]
  },
  {
   "cell_type": "markdown",
   "metadata": {},
   "source": [
    "## embed"
   ]
  },
  {
   "cell_type": "code",
   "execution_count": 9,
   "metadata": {
    "collapsed": true
   },
   "outputs": [
    {
     "data": {
      "text/plain": [
       "Worm2vec_nonseq(\n",
       "  (enc): Sequential(\n",
       "    (0): MaxPool2d(kernel_size=2, stride=2, padding=0, dilation=1, ceil_mode=False)\n",
       "    (1): Conv2d(1, 8, kernel_size=(3, 3), stride=(1, 1), padding=(1, 1))\n",
       "    (2): BatchNorm2d(8, eps=1e-05, momentum=0.1, affine=True, track_running_stats=True)\n",
       "    (3): ReLU(inplace)\n",
       "    (4): Conv2d(8, 8, kernel_size=(3, 3), stride=(1, 1), padding=(1, 1))\n",
       "    (5): BatchNorm2d(8, eps=1e-05, momentum=0.1, affine=True, track_running_stats=True)\n",
       "    (6): ReLU(inplace)\n",
       "    (7): MaxPool2d(kernel_size=2, stride=2, padding=0, dilation=1, ceil_mode=False)\n",
       "    (8): Conv2d(8, 16, kernel_size=(3, 3), stride=(1, 1), padding=(1, 1))\n",
       "    (9): BatchNorm2d(16, eps=1e-05, momentum=0.1, affine=True, track_running_stats=True)\n",
       "    (10): ReLU(inplace)\n",
       "    (11): Conv2d(16, 16, kernel_size=(3, 3), stride=(1, 1), padding=(1, 1))\n",
       "    (12): BatchNorm2d(16, eps=1e-05, momentum=0.1, affine=True, track_running_stats=True)\n",
       "    (13): ReLU(inplace)\n",
       "    (14): MaxPool2d(kernel_size=2, stride=2, padding=0, dilation=1, ceil_mode=False)\n",
       "    (15): Conv2d(16, 32, kernel_size=(3, 3), stride=(1, 1), padding=(1, 1))\n",
       "    (16): BatchNorm2d(32, eps=1e-05, momentum=0.1, affine=True, track_running_stats=True)\n",
       "    (17): ReLU(inplace)\n",
       "    (18): Conv2d(32, 32, kernel_size=(3, 3), stride=(1, 1), padding=(1, 1))\n",
       "    (19): BatchNorm2d(32, eps=1e-05, momentum=0.1, affine=True, track_running_stats=True)\n",
       "    (20): ReLU(inplace)\n",
       "    (21): MaxPool2d(kernel_size=2, stride=2, padding=0, dilation=1, ceil_mode=False)\n",
       "    (22): Conv2d(32, 64, kernel_size=(3, 3), stride=(1, 1), padding=(1, 1))\n",
       "    (23): BatchNorm2d(64, eps=1e-05, momentum=0.1, affine=True, track_running_stats=True)\n",
       "    (24): ReLU(inplace)\n",
       "    (25): Conv2d(64, 64, kernel_size=(3, 3), stride=(1, 1), padding=(1, 1))\n",
       "    (26): BatchNorm2d(64, eps=1e-05, momentum=0.1, affine=True, track_running_stats=True)\n",
       "    (27): ReLU(inplace)\n",
       "    (28): MaxPool2d(kernel_size=2, stride=2, padding=0, dilation=1, ceil_mode=False)\n",
       "    (29): Conv2d(64, 128, kernel_size=(3, 3), stride=(1, 1), padding=(1, 1))\n",
       "    (30): BatchNorm2d(128, eps=1e-05, momentum=0.1, affine=True, track_running_stats=True)\n",
       "    (31): ReLU(inplace)\n",
       "    (32): Conv2d(128, 128, kernel_size=(3, 3), stride=(1, 1), padding=(1, 1))\n",
       "    (33): BatchNorm2d(128, eps=1e-05, momentum=0.1, affine=True, track_running_stats=True)\n",
       "    (34): ReLU(inplace)\n",
       "    (35): AvgPool2d(kernel_size=2, stride=2, padding=0)\n",
       "  )\n",
       "  (m_original): Linear(in_features=128, out_features=64, bias=True)\n",
       ")"
      ]
     },
     "execution_count": 9,
     "metadata": {},
     "output_type": "execute_result"
    }
   ],
   "source": [
    "# ここから実行する場合\n",
    "model.load_state_dict(torch.load(\"../models/\" + args.model_name + \".pkl\"))\n",
    "model.to(args.device)"
   ]
  },
  {
   "cell_type": "code",
   "execution_count": 16,
   "metadata": {},
   "outputs": [],
   "source": [
    "from predictor import Predictor"
   ]
  },
  {
   "cell_type": "code",
   "execution_count": 17,
   "metadata": {},
   "outputs": [],
   "source": [
    "args.logdir = \"predict_\" + args.logdir\n",
    "writer = SummaryWriter(log_dir=\"../log/tensorboard/\" + args.logdir)"
   ]
  },
  {
   "cell_type": "code",
   "execution_count": 18,
   "metadata": {},
   "outputs": [],
   "source": [
    "predictor = Predictor(model, \n",
    "                     writer,\n",
    "                     args.device,\n",
    "                     args.gpu_id,\n",
    "                     args.max_predict\n",
    "                     )"
   ]
  },
  {
   "cell_type": "code",
   "execution_count": 19,
   "metadata": {
    "scrolled": true
   },
   "outputs": [],
   "source": [
    "predictor.predict(test_loader=test_loader)"
   ]
  },
  {
   "cell_type": "code",
   "execution_count": 20,
   "metadata": {},
   "outputs": [],
   "source": [
    "writer.close()"
   ]
  },
  {
   "cell_type": "code",
   "execution_count": null,
   "metadata": {},
   "outputs": [],
   "source": []
  }
 ],
 "metadata": {
  "kernelspec": {
   "display_name": "Python 3",
   "language": "python",
   "name": "python3"
  },
  "language_info": {
   "codemirror_mode": {
    "name": "ipython",
    "version": 3
   },
   "file_extension": ".py",
   "mimetype": "text/x-python",
   "name": "python",
   "nbconvert_exporter": "python",
   "pygments_lexer": "ipython3",
   "version": "3.5.2"
  }
 },
 "nbformat": 4,
 "nbformat_minor": 2
}
